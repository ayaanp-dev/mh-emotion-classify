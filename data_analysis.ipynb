{
 "cells": [
  {
   "cell_type": "code",
   "execution_count": 2,
   "id": "4b92094e-1062-48de-9f35-0e99d0ea729c",
   "metadata": {},
   "outputs": [],
   "source": [
    "import pandas as pd\n",
    "import numpy as np\n",
    "import matplotlib.pyplot as plt"
   ]
  },
  {
   "cell_type": "code",
   "execution_count": 4,
   "id": "5d6a5a42-dadb-4298-81ce-8e380b54271d",
   "metadata": {},
   "outputs": [],
   "source": [
    "tweet_emotions = pd.read_csv(\"data/tweet_emotions.csv\")\n",
    "emotion_angry = pd.read_csv(\"data/Emotion(angry).csv\")[\"content\"].to_list()\n",
    "emotion_happy = pd.read_csv(\"data/Emotion(happy).csv\")[\"content\"].to_list()\n",
    "emotion_sad = pd.read_csv(\"data/Emotion(sad).csv\")[\"content\"].to_list()\n",
    "text = pd.read_csv(\"data/text.csv\")\n",
    "text_emotion = pd.read_csv(\"data/Text_Emotion.csv\")"
   ]
  },
  {
   "cell_type": "code",
   "execution_count": null,
   "id": "9d6ea5d8-2c34-48fc-aca3-82caa1e295ad",
   "metadata": {},
   "outputs": [],
   "source": []
  }
 ],
 "metadata": {
  "kernelspec": {
   "display_name": "Python 3 (ipykernel)",
   "language": "python",
   "name": "python3"
  },
  "language_info": {
   "codemirror_mode": {
    "name": "ipython",
    "version": 3
   },
   "file_extension": ".py",
   "mimetype": "text/x-python",
   "name": "python",
   "nbconvert_exporter": "python",
   "pygments_lexer": "ipython3",
   "version": "3.12.3"
  }
 },
 "nbformat": 4,
 "nbformat_minor": 5
}
